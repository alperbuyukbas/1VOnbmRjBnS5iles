{
 "cells": [
  {
   "cell_type": "code",
   "execution_count": 22,
   "metadata": {},
   "outputs": [],
   "source": [
    "import pandas as pd \n",
    "import numpy as np\n",
    "import tensorflow as tf"
   ]
  },
  {
   "cell_type": "code",
   "execution_count": 23,
   "metadata": {},
   "outputs": [
    {
     "data": {
      "text/plain": [
       "'2.3.1'"
      ]
     },
     "execution_count": 23,
     "metadata": {},
     "output_type": "execute_result"
    }
   ],
   "source": [
    "tf.__version__"
   ]
  },
  {
   "cell_type": "markdown",
   "metadata": {},
   "source": [
    "# PART-1"
   ]
  },
  {
   "cell_type": "markdown",
   "metadata": {},
   "source": [
    "# Importing Dataset"
   ]
  },
  {
   "cell_type": "code",
   "execution_count": 24,
   "metadata": {},
   "outputs": [
    {
     "data": {
      "text/html": [
       "<div>\n",
       "<style scoped>\n",
       "    .dataframe tbody tr th:only-of-type {\n",
       "        vertical-align: middle;\n",
       "    }\n",
       "\n",
       "    .dataframe tbody tr th {\n",
       "        vertical-align: top;\n",
       "    }\n",
       "\n",
       "    .dataframe thead th {\n",
       "        text-align: right;\n",
       "    }\n",
       "</style>\n",
       "<table border=\"1\" class=\"dataframe\">\n",
       "  <thead>\n",
       "    <tr style=\"text-align: right;\">\n",
       "      <th></th>\n",
       "      <th>age</th>\n",
       "      <th>job</th>\n",
       "      <th>marital</th>\n",
       "      <th>education</th>\n",
       "      <th>default</th>\n",
       "      <th>balance</th>\n",
       "      <th>housing</th>\n",
       "      <th>loan</th>\n",
       "      <th>contact</th>\n",
       "      <th>day</th>\n",
       "      <th>month</th>\n",
       "      <th>duration</th>\n",
       "      <th>campaign</th>\n",
       "      <th>y</th>\n",
       "    </tr>\n",
       "  </thead>\n",
       "  <tbody>\n",
       "    <tr>\n",
       "      <th>0</th>\n",
       "      <td>58</td>\n",
       "      <td>management</td>\n",
       "      <td>married</td>\n",
       "      <td>tertiary</td>\n",
       "      <td>no</td>\n",
       "      <td>2143</td>\n",
       "      <td>yes</td>\n",
       "      <td>no</td>\n",
       "      <td>unknown</td>\n",
       "      <td>5</td>\n",
       "      <td>may</td>\n",
       "      <td>261</td>\n",
       "      <td>1</td>\n",
       "      <td>no</td>\n",
       "    </tr>\n",
       "    <tr>\n",
       "      <th>1</th>\n",
       "      <td>44</td>\n",
       "      <td>technician</td>\n",
       "      <td>single</td>\n",
       "      <td>secondary</td>\n",
       "      <td>no</td>\n",
       "      <td>29</td>\n",
       "      <td>yes</td>\n",
       "      <td>no</td>\n",
       "      <td>unknown</td>\n",
       "      <td>5</td>\n",
       "      <td>may</td>\n",
       "      <td>151</td>\n",
       "      <td>1</td>\n",
       "      <td>no</td>\n",
       "    </tr>\n",
       "    <tr>\n",
       "      <th>2</th>\n",
       "      <td>33</td>\n",
       "      <td>entrepreneur</td>\n",
       "      <td>married</td>\n",
       "      <td>secondary</td>\n",
       "      <td>no</td>\n",
       "      <td>2</td>\n",
       "      <td>yes</td>\n",
       "      <td>yes</td>\n",
       "      <td>unknown</td>\n",
       "      <td>5</td>\n",
       "      <td>may</td>\n",
       "      <td>76</td>\n",
       "      <td>1</td>\n",
       "      <td>no</td>\n",
       "    </tr>\n",
       "    <tr>\n",
       "      <th>3</th>\n",
       "      <td>47</td>\n",
       "      <td>blue-collar</td>\n",
       "      <td>married</td>\n",
       "      <td>unknown</td>\n",
       "      <td>no</td>\n",
       "      <td>1506</td>\n",
       "      <td>yes</td>\n",
       "      <td>no</td>\n",
       "      <td>unknown</td>\n",
       "      <td>5</td>\n",
       "      <td>may</td>\n",
       "      <td>92</td>\n",
       "      <td>1</td>\n",
       "      <td>no</td>\n",
       "    </tr>\n",
       "    <tr>\n",
       "      <th>4</th>\n",
       "      <td>33</td>\n",
       "      <td>unknown</td>\n",
       "      <td>single</td>\n",
       "      <td>unknown</td>\n",
       "      <td>no</td>\n",
       "      <td>1</td>\n",
       "      <td>no</td>\n",
       "      <td>no</td>\n",
       "      <td>unknown</td>\n",
       "      <td>5</td>\n",
       "      <td>may</td>\n",
       "      <td>198</td>\n",
       "      <td>1</td>\n",
       "      <td>no</td>\n",
       "    </tr>\n",
       "    <tr>\n",
       "      <th>...</th>\n",
       "      <td>...</td>\n",
       "      <td>...</td>\n",
       "      <td>...</td>\n",
       "      <td>...</td>\n",
       "      <td>...</td>\n",
       "      <td>...</td>\n",
       "      <td>...</td>\n",
       "      <td>...</td>\n",
       "      <td>...</td>\n",
       "      <td>...</td>\n",
       "      <td>...</td>\n",
       "      <td>...</td>\n",
       "      <td>...</td>\n",
       "      <td>...</td>\n",
       "    </tr>\n",
       "    <tr>\n",
       "      <th>39995</th>\n",
       "      <td>53</td>\n",
       "      <td>technician</td>\n",
       "      <td>married</td>\n",
       "      <td>tertiary</td>\n",
       "      <td>no</td>\n",
       "      <td>395</td>\n",
       "      <td>no</td>\n",
       "      <td>no</td>\n",
       "      <td>cellular</td>\n",
       "      <td>3</td>\n",
       "      <td>jun</td>\n",
       "      <td>107</td>\n",
       "      <td>1</td>\n",
       "      <td>no</td>\n",
       "    </tr>\n",
       "    <tr>\n",
       "      <th>39996</th>\n",
       "      <td>30</td>\n",
       "      <td>management</td>\n",
       "      <td>single</td>\n",
       "      <td>tertiary</td>\n",
       "      <td>no</td>\n",
       "      <td>3340</td>\n",
       "      <td>no</td>\n",
       "      <td>no</td>\n",
       "      <td>cellular</td>\n",
       "      <td>3</td>\n",
       "      <td>jun</td>\n",
       "      <td>238</td>\n",
       "      <td>3</td>\n",
       "      <td>yes</td>\n",
       "    </tr>\n",
       "    <tr>\n",
       "      <th>39997</th>\n",
       "      <td>54</td>\n",
       "      <td>admin</td>\n",
       "      <td>divorced</td>\n",
       "      <td>secondary</td>\n",
       "      <td>no</td>\n",
       "      <td>200</td>\n",
       "      <td>no</td>\n",
       "      <td>no</td>\n",
       "      <td>cellular</td>\n",
       "      <td>3</td>\n",
       "      <td>jun</td>\n",
       "      <td>170</td>\n",
       "      <td>1</td>\n",
       "      <td>yes</td>\n",
       "    </tr>\n",
       "    <tr>\n",
       "      <th>39998</th>\n",
       "      <td>34</td>\n",
       "      <td>management</td>\n",
       "      <td>married</td>\n",
       "      <td>tertiary</td>\n",
       "      <td>no</td>\n",
       "      <td>1047</td>\n",
       "      <td>no</td>\n",
       "      <td>no</td>\n",
       "      <td>cellular</td>\n",
       "      <td>3</td>\n",
       "      <td>jun</td>\n",
       "      <td>342</td>\n",
       "      <td>1</td>\n",
       "      <td>no</td>\n",
       "    </tr>\n",
       "    <tr>\n",
       "      <th>39999</th>\n",
       "      <td>38</td>\n",
       "      <td>technician</td>\n",
       "      <td>married</td>\n",
       "      <td>secondary</td>\n",
       "      <td>no</td>\n",
       "      <td>1442</td>\n",
       "      <td>yes</td>\n",
       "      <td>no</td>\n",
       "      <td>cellular</td>\n",
       "      <td>3</td>\n",
       "      <td>jun</td>\n",
       "      <td>113</td>\n",
       "      <td>1</td>\n",
       "      <td>no</td>\n",
       "    </tr>\n",
       "  </tbody>\n",
       "</table>\n",
       "<p>40000 rows × 14 columns</p>\n",
       "</div>"
      ],
      "text/plain": [
       "       age           job   marital  education default  balance housing loan  \\\n",
       "0       58    management   married   tertiary      no     2143     yes   no   \n",
       "1       44    technician    single  secondary      no       29     yes   no   \n",
       "2       33  entrepreneur   married  secondary      no        2     yes  yes   \n",
       "3       47   blue-collar   married    unknown      no     1506     yes   no   \n",
       "4       33       unknown    single    unknown      no        1      no   no   \n",
       "...    ...           ...       ...        ...     ...      ...     ...  ...   \n",
       "39995   53    technician   married   tertiary      no      395      no   no   \n",
       "39996   30    management    single   tertiary      no     3340      no   no   \n",
       "39997   54         admin  divorced  secondary      no      200      no   no   \n",
       "39998   34    management   married   tertiary      no     1047      no   no   \n",
       "39999   38    technician   married  secondary      no     1442     yes   no   \n",
       "\n",
       "        contact  day month  duration  campaign    y  \n",
       "0       unknown    5   may       261         1   no  \n",
       "1       unknown    5   may       151         1   no  \n",
       "2       unknown    5   may        76         1   no  \n",
       "3       unknown    5   may        92         1   no  \n",
       "4       unknown    5   may       198         1   no  \n",
       "...         ...  ...   ...       ...       ...  ...  \n",
       "39995  cellular    3   jun       107         1   no  \n",
       "39996  cellular    3   jun       238         3  yes  \n",
       "39997  cellular    3   jun       170         1  yes  \n",
       "39998  cellular    3   jun       342         1   no  \n",
       "39999  cellular    3   jun       113         1   no  \n",
       "\n",
       "[40000 rows x 14 columns]"
      ]
     },
     "execution_count": 24,
     "metadata": {},
     "output_type": "execute_result"
    }
   ],
   "source": [
    "dataset=pd.read_csv(\"term-deposit-marketing-2020.csv\")\n",
    "x=dataset.iloc[:,:-1].values\n",
    "y=dataset.iloc[:,-1].values\n",
    "dataset"
   ]
  },
  {
   "cell_type": "markdown",
   "metadata": {},
   "source": [
    "# Checking Missing Data"
   ]
  },
  {
   "cell_type": "code",
   "execution_count": 25,
   "metadata": {},
   "outputs": [
    {
     "data": {
      "text/plain": [
       "age          False\n",
       "job          False\n",
       "marital      False\n",
       "education    False\n",
       "default      False\n",
       "balance      False\n",
       "housing      False\n",
       "loan         False\n",
       "contact      False\n",
       "day          False\n",
       "month        False\n",
       "duration     False\n",
       "campaign     False\n",
       "y            False\n",
       "dtype: bool"
      ]
     },
     "execution_count": 25,
     "metadata": {},
     "output_type": "execute_result"
    }
   ],
   "source": [
    "dataset.isna().any()    # There are no missing values.!!"
   ]
  },
  {
   "cell_type": "markdown",
   "metadata": {},
   "source": [
    "# Encoding Categorical Data "
   ]
  },
  {
   "cell_type": "markdown",
   "metadata": {},
   "source": [
    "### 1-Encoding the Independent Variables"
   ]
  },
  {
   "cell_type": "code",
   "execution_count": 26,
   "metadata": {},
   "outputs": [],
   "source": [
    "from sklearn.compose import ColumnTransformer\n",
    "from sklearn.preprocessing import OneHotEncoder\n",
    "from sklearn.preprocessing import LabelEncoder\n",
    "\n",
    "le=LabelEncoder()\n",
    "x[:,4]=le.fit_transform(x[:,4])\n",
    "x[:,6]=le.fit_transform(x[:,6])\n",
    "x[:,7]=le.fit_transform(x[:,7])\n",
    "ct=ColumnTransformer(transformers=[('encoder',OneHotEncoder(),[1,2,3,8,10])],remainder='passthrough')\n",
    "x=np.array(ct.fit_transform(x))"
   ]
  },
  {
   "cell_type": "markdown",
   "metadata": {},
   "source": [
    "\n",
    "### 2-Encoding the Dependent Variable "
   ]
  },
  {
   "cell_type": "code",
   "execution_count": 27,
   "metadata": {},
   "outputs": [],
   "source": [
    "from sklearn.preprocessing import LabelEncoder\n",
    "le=LabelEncoder()\n",
    "y=le.fit_transform(y)"
   ]
  },
  {
   "cell_type": "markdown",
   "metadata": {},
   "source": [
    "# Splitting the Dataset into Training Set and Test Set"
   ]
  },
  {
   "cell_type": "code",
   "execution_count": 28,
   "metadata": {},
   "outputs": [],
   "source": [
    "from sklearn.model_selection import train_test_split\n",
    "x_train,x_test,y_train,y_test = train_test_split(x,y,test_size = 0.25, random_state=0)"
   ]
  },
  {
   "cell_type": "markdown",
   "metadata": {},
   "source": [
    "# Feature Scaling"
   ]
  },
  {
   "cell_type": "code",
   "execution_count": 42,
   "metadata": {},
   "outputs": [],
   "source": [
    "from sklearn.preprocessing import StandardScaler\n",
    "sc=StandardScaler()\n",
    "x_train=sc.fit_transform(x_train)\n",
    "x_test=sc.fit_transform(x_test)"
   ]
  },
  {
   "cell_type": "markdown",
   "metadata": {},
   "source": [
    "# PART-2"
   ]
  },
  {
   "cell_type": "markdown",
   "metadata": {},
   "source": [
    "# Building the ANN"
   ]
  },
  {
   "cell_type": "code",
   "execution_count": 30,
   "metadata": {},
   "outputs": [],
   "source": [
    "ann = tf.keras.models.Sequential()"
   ]
  },
  {
   "cell_type": "markdown",
   "metadata": {},
   "source": [
    "#### Adding input layer and first and second hidden layer "
   ]
  },
  {
   "cell_type": "code",
   "execution_count": 31,
   "metadata": {},
   "outputs": [],
   "source": [
    "ann.add(tf.keras.layers.Dense(units=10,activation='sigmoid'))\n",
    "ann.add(tf.keras.layers.Dense(units=10,activation='sigmoid'))"
   ]
  },
  {
   "cell_type": "markdown",
   "metadata": {},
   "source": [
    "#### Output layer "
   ]
  },
  {
   "cell_type": "code",
   "execution_count": 32,
   "metadata": {},
   "outputs": [],
   "source": [
    "ann.add(tf.keras.layers.Dense(units=1,activation='sigmoid'))"
   ]
  },
  {
   "cell_type": "markdown",
   "metadata": {},
   "source": [
    "# Traning the ANN"
   ]
  },
  {
   "cell_type": "code",
   "execution_count": 33,
   "metadata": {},
   "outputs": [],
   "source": [
    "ann.compile(optimizer='Adamax',loss='binary_crossentropy',metrics=['accuracy'])"
   ]
  },
  {
   "cell_type": "code",
   "execution_count": 34,
   "metadata": {},
   "outputs": [
    {
     "name": "stdout",
     "output_type": "stream",
     "text": [
      "Epoch 1/100\n",
      "938/938 [==============================] - 1s 558us/step - loss: 0.3224 - accuracy: 0.8969\n",
      "Epoch 2/100\n",
      "938/938 [==============================] - 1s 554us/step - loss: 0.2369 - accuracy: 0.9272\n",
      "Epoch 3/100\n",
      "938/938 [==============================] - 2s 2ms/step - loss: 0.2089 - accuracy: 0.9272\n",
      "Epoch 4/100\n",
      "938/938 [==============================] - 3s 3ms/step - loss: 0.1809 - accuracy: 0.9283: 0s - loss: 0.1811 - accu\n",
      "Epoch 5/100\n",
      "938/938 [==============================] - 3s 4ms/step - loss: 0.1647 - accuracy: 0.9321\n",
      "Epoch 6/100\n",
      "938/938 [==============================] - 2s 2ms/step - loss: 0.1580 - accuracy: 0.9337\n",
      "Epoch 7/100\n",
      "938/938 [==============================] - 2s 2ms/step - loss: 0.1552 - accuracy: 0.9342\n",
      "Epoch 8/100\n",
      "938/938 [==============================] - 1s 2ms/step - loss: 0.1534 - accuracy: 0.9341\n",
      "Epoch 9/100\n",
      "938/938 [==============================] - 1s 557us/step - loss: 0.1521 - accuracy: 0.9343\n",
      "Epoch 10/100\n",
      "938/938 [==============================] - 1s 621us/step - loss: 0.1510 - accuracy: 0.9345\n",
      "Epoch 11/100\n",
      "938/938 [==============================] - 1s 574us/step - loss: 0.1502 - accuracy: 0.9349\n",
      "Epoch 12/100\n",
      "938/938 [==============================] - 1s 675us/step - loss: 0.1494 - accuracy: 0.9354\n",
      "Epoch 13/100\n",
      "938/938 [==============================] - 1s 970us/step - loss: 0.1488 - accuracy: 0.9351\n",
      "Epoch 14/100\n",
      "938/938 [==============================] - 2s 2ms/step - loss: 0.1482 - accuracy: 0.9358\n",
      "Epoch 15/100\n",
      "938/938 [==============================] - 2s 2ms/step - loss: 0.1476 - accuracy: 0.9355\n",
      "Epoch 16/100\n",
      "938/938 [==============================] - 2s 3ms/step - loss: 0.1472 - accuracy: 0.9358\n",
      "Epoch 17/100\n",
      "938/938 [==============================] - 1s 917us/step - loss: 0.1467 - accuracy: 0.9356\n",
      "Epoch 18/100\n",
      "938/938 [==============================] - 1s 601us/step - loss: 0.1463 - accuracy: 0.9356\n",
      "Epoch 19/100\n",
      "938/938 [==============================] - 1s 636us/step - loss: 0.1460 - accuracy: 0.9359\n",
      "Epoch 20/100\n",
      "938/938 [==============================] - 1s 585us/step - loss: 0.1456 - accuracy: 0.9362\n",
      "Epoch 21/100\n",
      "938/938 [==============================] - 1s 562us/step - loss: 0.1452 - accuracy: 0.9362\n",
      "Epoch 22/100\n",
      "938/938 [==============================] - 1s 554us/step - loss: 0.1449 - accuracy: 0.9362\n",
      "Epoch 23/100\n",
      "938/938 [==============================] - 1s 558us/step - loss: 0.1446 - accuracy: 0.9359\n",
      "Epoch 24/100\n",
      "938/938 [==============================] - 1s 549us/step - loss: 0.1443 - accuracy: 0.9360\n",
      "Epoch 25/100\n",
      "938/938 [==============================] - 1s 1ms/step - loss: 0.1440 - accuracy: 0.9359\n",
      "Epoch 26/100\n",
      "938/938 [==============================] - 2s 2ms/step - loss: 0.1438 - accuracy: 0.9361\n",
      "Epoch 27/100\n",
      "938/938 [==============================] - 2s 2ms/step - loss: 0.1435 - accuracy: 0.9361\n",
      "Epoch 28/100\n",
      "938/938 [==============================] - 1s 1ms/step - loss: 0.1433 - accuracy: 0.9362\n",
      "Epoch 29/100\n",
      "938/938 [==============================] - 1s 856us/step - loss: 0.1430 - accuracy: 0.9362\n",
      "Epoch 30/100\n",
      "938/938 [==============================] - 1s 2ms/step - loss: 0.1428 - accuracy: 0.9362\n",
      "Epoch 31/100\n",
      "938/938 [==============================] - 2s 2ms/step - loss: 0.1426 - accuracy: 0.9362\n",
      "Epoch 32/100\n",
      "938/938 [==============================] - 2s 2ms/step - loss: 0.1424 - accuracy: 0.9365\n",
      "Epoch 33/100\n",
      "938/938 [==============================] - 1s 1ms/step - loss: 0.1422 - accuracy: 0.9363\n",
      "Epoch 34/100\n",
      "938/938 [==============================] - 1s 568us/step - loss: 0.1420 - accuracy: 0.9371\n",
      "Epoch 35/100\n",
      "938/938 [==============================] - 1s 550us/step - loss: 0.1418 - accuracy: 0.9366\n",
      "Epoch 36/100\n",
      "938/938 [==============================] - 1s 578us/step - loss: 0.1416 - accuracy: 0.9369\n",
      "Epoch 37/100\n",
      "938/938 [==============================] - 1s 556us/step - loss: 0.1414 - accuracy: 0.9368\n",
      "Epoch 38/100\n",
      "938/938 [==============================] - 1s 555us/step - loss: 0.1413 - accuracy: 0.9370\n",
      "Epoch 39/100\n",
      "938/938 [==============================] - 1s 571us/step - loss: 0.1411 - accuracy: 0.9372\n",
      "Epoch 40/100\n",
      "938/938 [==============================] - 1s 617us/step - loss: 0.1410 - accuracy: 0.9371\n",
      "Epoch 41/100\n",
      "938/938 [==============================] - 2s 2ms/step - loss: 0.1408 - accuracy: 0.9372\n",
      "Epoch 42/100\n",
      "938/938 [==============================] - 1s 633us/step - loss: 0.1407 - accuracy: 0.9372\n",
      "Epoch 43/100\n",
      "938/938 [==============================] - 1s 578us/step - loss: 0.1404 - accuracy: 0.9372\n",
      "Epoch 44/100\n",
      "938/938 [==============================] - 1s 589us/step - loss: 0.1404 - accuracy: 0.9373\n",
      "Epoch 45/100\n",
      "938/938 [==============================] - 2s 2ms/step - loss: 0.1402 - accuracy: 0.9378\n",
      "Epoch 46/100\n",
      "938/938 [==============================] - 2s 2ms/step - loss: 0.1401 - accuracy: 0.9373\n",
      "Epoch 47/100\n",
      "938/938 [==============================] - 2s 2ms/step - loss: 0.1399 - accuracy: 0.9378\n",
      "Epoch 48/100\n",
      "938/938 [==============================] - 1s 638us/step - loss: 0.1398 - accuracy: 0.9374\n",
      "Epoch 49/100\n",
      "938/938 [==============================] - 1s 551us/step - loss: 0.1397 - accuracy: 0.9376\n",
      "Epoch 50/100\n",
      "938/938 [==============================] - 1s 548us/step - loss: 0.1395 - accuracy: 0.9377\n",
      "Epoch 51/100\n",
      "938/938 [==============================] - 1s 564us/step - loss: 0.1394 - accuracy: 0.9380\n",
      "Epoch 52/100\n",
      "938/938 [==============================] - 1s 612us/step - loss: 0.1393 - accuracy: 0.9377\n",
      "Epoch 53/100\n",
      "938/938 [==============================] - 1s 864us/step - loss: 0.1392 - accuracy: 0.9379\n",
      "Epoch 54/100\n",
      "938/938 [==============================] - 1s 591us/step - loss: 0.1390 - accuracy: 0.9381\n",
      "Epoch 55/100\n",
      "938/938 [==============================] - 1s 607us/step - loss: 0.1389 - accuracy: 0.9378\n",
      "Epoch 56/100\n",
      "938/938 [==============================] - 1s 572us/step - loss: 0.1388 - accuracy: 0.9381\n",
      "Epoch 57/100\n",
      "938/938 [==============================] - 1s 573us/step - loss: 0.1386 - accuracy: 0.9384\n",
      "Epoch 58/100\n",
      "938/938 [==============================] - 1s 626us/step - loss: 0.1386 - accuracy: 0.9383\n",
      "Epoch 59/100\n",
      "938/938 [==============================] - 1s 606us/step - loss: 0.1383 - accuracy: 0.9386\n",
      "Epoch 60/100\n",
      "938/938 [==============================] - 1s 627us/step - loss: 0.1384 - accuracy: 0.9386\n",
      "Epoch 61/100\n",
      "938/938 [==============================] - 1s 564us/step - loss: 0.1382 - accuracy: 0.9383\n",
      "Epoch 62/100\n",
      "938/938 [==============================] - 1s 550us/step - loss: 0.1381 - accuracy: 0.9384\n",
      "Epoch 63/100\n",
      "938/938 [==============================] - 1s 553us/step - loss: 0.1380 - accuracy: 0.9385\n",
      "Epoch 64/100\n",
      "938/938 [==============================] - 1s 564us/step - loss: 0.1378 - accuracy: 0.9386\n",
      "Epoch 65/100\n",
      "938/938 [==============================] - 1s 603us/step - loss: 0.1377 - accuracy: 0.9384\n",
      "Epoch 66/100\n",
      "938/938 [==============================] - 1s 589us/step - loss: 0.1376 - accuracy: 0.9387\n",
      "Epoch 67/100\n",
      "938/938 [==============================] - 1s 591us/step - loss: 0.1375 - accuracy: 0.9388\n",
      "Epoch 68/100\n",
      "938/938 [==============================] - 1s 598us/step - loss: 0.1374 - accuracy: 0.9390\n",
      "Epoch 69/100\n",
      "938/938 [==============================] - 1s 598us/step - loss: 0.1373 - accuracy: 0.9391\n",
      "Epoch 70/100\n",
      "938/938 [==============================] - 1s 586us/step - loss: 0.1372 - accuracy: 0.9390\n",
      "Epoch 71/100\n",
      "938/938 [==============================] - 1s 584us/step - loss: 0.1371 - accuracy: 0.9388\n",
      "Epoch 72/100\n",
      "938/938 [==============================] - 2s 2ms/step - loss: 0.1370 - accuracy: 0.9389\n",
      "Epoch 73/100\n",
      "938/938 [==============================] - 2s 3ms/step - loss: 0.1369 - accuracy: 0.9389\n",
      "Epoch 74/100\n",
      "938/938 [==============================] - 3s 3ms/step - loss: 0.1368 - accuracy: 0.9387\n",
      "Epoch 75/100\n",
      "938/938 [==============================] - 2s 2ms/step - loss: 0.1367 - accuracy: 0.9389\n",
      "Epoch 76/100\n",
      "938/938 [==============================] - 2s 2ms/step - loss: 0.1366 - accuracy: 0.9397\n",
      "Epoch 77/100\n",
      "938/938 [==============================] - 2s 2ms/step - loss: 0.1365 - accuracy: 0.9396\n",
      "Epoch 78/100\n",
      "938/938 [==============================] - 2s 3ms/step - loss: 0.1365 - accuracy: 0.9395\n",
      "Epoch 79/100\n"
     ]
    },
    {
     "name": "stdout",
     "output_type": "stream",
     "text": [
      "938/938 [==============================] - 1s 1ms/step - loss: 0.1364 - accuracy: 0.9396\n",
      "Epoch 80/100\n",
      "938/938 [==============================] - 2s 2ms/step - loss: 0.1363 - accuracy: 0.9394\n",
      "Epoch 81/100\n",
      "938/938 [==============================] - 2s 2ms/step - loss: 0.1362 - accuracy: 0.9397\n",
      "Epoch 82/100\n",
      "938/938 [==============================] - 2s 2ms/step - loss: 0.1361 - accuracy: 0.9394\n",
      "Epoch 83/100\n",
      "938/938 [==============================] - 2s 3ms/step - loss: 0.1360 - accuracy: 0.9397\n",
      "Epoch 84/100\n",
      "938/938 [==============================] - 2s 2ms/step - loss: 0.1359 - accuracy: 0.9400\n",
      "Epoch 85/100\n",
      "938/938 [==============================] - 2s 2ms/step - loss: 0.1359 - accuracy: 0.9400\n",
      "Epoch 86/100\n",
      "938/938 [==============================] - 2s 3ms/step - loss: 0.1358 - accuracy: 0.9400\n",
      "Epoch 87/100\n",
      "938/938 [==============================] - 2s 3ms/step - loss: 0.1356 - accuracy: 0.9401\n",
      "Epoch 88/100\n",
      "938/938 [==============================] - 2s 2ms/step - loss: 0.1356 - accuracy: 0.9400\n",
      "Epoch 89/100\n",
      "938/938 [==============================] - 2s 2ms/step - loss: 0.1355 - accuracy: 0.9402\n",
      "Epoch 90/100\n",
      "938/938 [==============================] - 2s 2ms/step - loss: 0.1355 - accuracy: 0.9402\n",
      "Epoch 91/100\n",
      "938/938 [==============================] - 3s 3ms/step - loss: 0.1354 - accuracy: 0.9402\n",
      "Epoch 92/100\n",
      "938/938 [==============================] - 1s 1ms/step - loss: 0.1353 - accuracy: 0.9400\n",
      "Epoch 93/100\n",
      "938/938 [==============================] - 1s 607us/step - loss: 0.1353 - accuracy: 0.9403\n",
      "Epoch 94/100\n",
      "938/938 [==============================] - 1s 743us/step - loss: 0.1352 - accuracy: 0.9404\n",
      "Epoch 95/100\n",
      "938/938 [==============================] - 1s 657us/step - loss: 0.1351 - accuracy: 0.9405\n",
      "Epoch 96/100\n",
      "938/938 [==============================] - 1s 614us/step - loss: 0.1350 - accuracy: 0.9401\n",
      "Epoch 97/100\n",
      "938/938 [==============================] - 1s 564us/step - loss: 0.1350 - accuracy: 0.9403\n",
      "Epoch 98/100\n",
      "938/938 [==============================] - 1s 1ms/step - loss: 0.1349 - accuracy: 0.9404\n",
      "Epoch 99/100\n",
      "938/938 [==============================] - 1s 608us/step - loss: 0.1348 - accuracy: 0.9406\n",
      "Epoch 100/100\n",
      "938/938 [==============================] - 1s 599us/step - loss: 0.1347 - accuracy: 0.9401\n"
     ]
    }
   ],
   "source": [
    "model=ann.fit(x_train,y_train,batch_size=32, epochs=100)"
   ]
  },
  {
   "cell_type": "markdown",
   "metadata": {},
   "source": [
    "# Predicting Test Results"
   ]
  },
  {
   "cell_type": "code",
   "execution_count": 35,
   "metadata": {},
   "outputs": [],
   "source": [
    "y_pred=ann.predict(x_test)\n",
    "y_pred= (y_pred>0.5)"
   ]
  },
  {
   "cell_type": "markdown",
   "metadata": {},
   "source": [
    "# Goal(s)"
   ]
  },
  {
   "cell_type": "code",
   "execution_count": 38,
   "metadata": {},
   "outputs": [
    {
     "name": "stdout",
     "output_type": "stream",
     "text": [
      "[[9083  206]\n",
      " [ 410  301]]\n",
      "Predicting Accuracy: %93.84\n"
     ]
    }
   ],
   "source": [
    "from sklearn.metrics import confusion_matrix,accuracy_score\n",
    "cm=confusion_matrix(y_test,y_pred)\n",
    "print(cm)\n",
    "acc=accuracy_score(y_test,y_pred)\n",
    "print(\"Predicting Accuracy: %{}\".format(acc*100))"
   ]
  },
  {
   "cell_type": "markdown",
   "metadata": {},
   "source": [
    "# Success Metric(s) (reporting the average performance score)"
   ]
  },
  {
   "cell_type": "code",
   "execution_count": 39,
   "metadata": {},
   "outputs": [
    {
     "name": "stdout",
     "output_type": "stream",
     "text": [
      "average performance score: %93.73666644096375\n"
     ]
    }
   ],
   "source": [
    "from sklearn.model_selection import StratifiedKFold\n",
    "from sklearn.model_selection import cross_val_score\n",
    "from keras.wrappers.scikit_learn import KerasClassifier\n",
    "\n",
    "def built_classifier():\n",
    "    ann = tf.keras.models.Sequential()\n",
    "    ann.add(tf.keras.layers.Dense(units=10,activation='sigmoid'))\n",
    "    ann.add(tf.keras.layers.Dense(units=10,activation='sigmoid'))\n",
    "    ann.add(tf.keras.layers.Dense(units=1,activation='sigmoid'))\n",
    "    \n",
    "    ann.compile(optimizer='Adamax',loss='binary_crossentropy',metrics=['accuracy'])\n",
    "    return ann\n",
    "\n",
    "classifier=KerasClassifier(build_fn=built_classifier,batch_size=32,epochs=100)\n",
    "accuracies=cross_val_score(estimator=classifier,X=x_train,y=y_train,cv=5,n_jobs=-1)\n",
    "average_performance_score=accuracies.mean()\n",
    "print(\"average performance score: %{}\".format(average_performance_score*100))"
   ]
  },
  {
   "cell_type": "code",
   "execution_count": null,
   "metadata": {},
   "outputs": [],
   "source": []
  }
 ],
 "metadata": {
  "kernelspec": {
   "display_name": "Python 3",
   "language": "python",
   "name": "python3"
  },
  "language_info": {
   "codemirror_mode": {
    "name": "ipython",
    "version": 3
   },
   "file_extension": ".py",
   "mimetype": "text/x-python",
   "name": "python",
   "nbconvert_exporter": "python",
   "pygments_lexer": "ipython3",
   "version": "3.7.9"
  }
 },
 "nbformat": 4,
 "nbformat_minor": 4
}
